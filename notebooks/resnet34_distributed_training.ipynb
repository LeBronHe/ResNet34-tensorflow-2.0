{
 "cells": [
  {
   "cell_type": "code",
   "execution_count": 1,
   "metadata": {},
   "outputs": [
    {
     "name": "stdout",
     "output_type": "stream",
     "text": [
      "TensorFlow 2.0.0-beta0\n"
     ]
    }
   ],
   "source": [
    "import tensorflow as tf\n",
    "from glob import glob\n",
    "import numpy as np\n",
    "import matplotlib.pyplot as plt\n",
    "from tqdm import tqdm_notebook\n",
    "from sklearn.metrics import classification_report\n",
    "\n",
    "print('TensorFlow', tf.__version__)"
   ]
  },
  {
   "cell_type": "code",
   "execution_count": 9,
   "metadata": {},
   "outputs": [
    {
     "data": {
      "text/plain": [
       "[<matplotlib.lines.Line2D at 0x7f9b98607cc0>]"
      ]
     },
     "execution_count": 9,
     "metadata": {},
     "output_type": "execute_result"
    },
    {
     "data": {
      "image/png": "[encoded data removed]",
      "text/plain": [
       "<Figure size 432x288 with 1 Axes>"
      ]
     },
     "metadata": {
      "needs_background": "light"
     },
     "output_type": "display_data"
    }
   ],
   "source": [
    "starter_learning_rate = 1e-4\n",
    "end_learning_rate = 1e-5\n",
    "decay_steps = 10000\n",
    "learning_rate_fn = tf.keras.optimizers.schedules.PolynomialDecay(\n",
    "    starter_learning_rate,\n",
    "    decay_steps,\n",
    "    end_learning_rate,\n",
    "    power=0.5)\n",
    "x = [learning_rate_fn(i).numpy() for i in range(21000)]\n",
    "plt.plot(x)"
   ]
  },
  {
   "cell_type": "code",
   "execution_count": null,
   "metadata": {},
   "outputs": [],
   "source": [
    "tf.distribute.experimental.MultiWorkerMirroredStrategy(communication=tf.distribute.experimental.CollectiveCommunication.RING)"
   ]
  },
  {
   "cell_type": "code",
   "execution_count": 2,
   "metadata": {},
   "outputs": [],
   "source": [
    "def residual_block(input_tensor, block_type, n_filters):\n",
    "    shortcut = input_tensor\n",
    "    if block_type == 'conv':\n",
    "        strides = 2\n",
    "        shortcut =  tf.keras.layers.Conv2D(filters=n_filters, \n",
    "                                           kernel_size=1, \n",
    "                                           padding='same',\n",
    "                                           strides=strides,\n",
    "                                           kernel_initializer='he_normal', \n",
    "                                           use_bias=False,\n",
    "                                           kernel_regularizer=tf.keras.regularizers.l2(l=1e-4))(shortcut)\n",
    "        shortcut = tf.keras.layers.BatchNormalization(momentum=0.9)(shortcut)\n",
    "        \n",
    "    elif block_type == 'identity':\n",
    "        strides = 1\n",
    "\n",
    "    x = tf.keras.layers.Conv2D(filters=n_filters, \n",
    "                               kernel_size=3, \n",
    "                               padding='same',\n",
    "                               strides=strides,\n",
    "                               kernel_initializer='he_normal', \n",
    "                               use_bias=False, \n",
    "                               kernel_regularizer=tf.keras.regularizers.l2(l=1e-4))(input_tensor)\n",
    "    x = tf.keras.layers.BatchNormalization(momentum=0.9)(x)\n",
    "    x = tf.keras.layers.ReLU()(x)\n",
    "    \n",
    "    x = tf.keras.layers.Conv2D(filters=n_filters, \n",
    "                               kernel_size=3, \n",
    "                               padding='same',\n",
    "                               strides=1,\n",
    "                               kernel_initializer='he_normal', \n",
    "                               use_bias=False, \n",
    "                               kernel_regularizer=tf.keras.regularizers.l2(l=1e-4))(x)\n",
    "    x = tf.keras.layers.BatchNormalization(momentum=0.9)(x)\n",
    "    x = tf.keras.layers.Add()([x, shortcut])\n",
    "    x = tf.keras.layers.ReLU()(x)\n",
    "    return x\n",
    "\n",
    "\n",
    "def ResNet34(input_shape=[None, None, 3], num_classes=1000, include_top=True, return_endpoints=False):\n",
    "    input_tensor = tf.keras.layers.Input(shape=input_shape)\n",
    "    x = tf.keras.layers.Conv2D(filters=64, \n",
    "                               kernel_size=7, \n",
    "                               padding='same', \n",
    "                               strides=2, \n",
    "                               kernel_initializer='he_normal', \n",
    "                               use_bias=False, \n",
    "                               kernel_regularizer=tf.keras.regularizers.l2(l=1e-4))(input_tensor)\n",
    "    x = tf.keras.layers.BatchNormalization(momentum=0.9)(x)\n",
    "    x = tf.keras.layers.ReLU()(x)\n",
    "    x = tf.keras.layers.MaxPool2D(3, 2, padding='same')(x)\n",
    "    \n",
    "    for n_filters, reps, downscale in zip([64, 128, 256, 512], \n",
    "                                          [3, 4, 6, 3], \n",
    "                                          [False, True, True, True]):\n",
    "        for i in range(reps):\n",
    "            if i == 0 and downscale:\n",
    "                x = residual_block(input_tensor=x, \n",
    "                                   block_type='conv', \n",
    "                                   n_filters=n_filters)\n",
    "            else:\n",
    "                x = residual_block(input_tensor=x, \n",
    "                                   block_type='identity', \n",
    "                                   n_filters=n_filters)\n",
    "    x = tf.keras.layers.GlobalAveragePooling2D()(x)\n",
    "    if include_top:\n",
    "        x = tf.keras.layers.Dense(units=num_classes)(x)\n",
    "    return tf.keras.Model(inputs=input_tensor, outputs=x, name='ResNet34')"
   ]
  },
  {
   "cell_type": "code",
   "execution_count": 3,
   "metadata": {},
   "outputs": [
    {
     "name": "stdout",
     "output_type": "stream",
     "text": [
      "Number of classes :  10\n",
      "Found 12894 train images\n",
      "Found 500 validation images\n"
     ]
    }
   ],
   "source": [
    "H, W = 256, 256\n",
    "classes = sorted(['n03417042', 'n03028079', 'n03888257', 'n02102040', 'n01440764', 'n03445777', 'n03000684', 'n02979186', 'n03394916', 'n03425413'])\n",
    "label_map = {v:i for i, v in enumerate(classes)}\n",
    "\n",
    "train_images = glob('imagenette/train/*/*')\n",
    "np.random.shuffle(train_images)\n",
    "train_labels = [label_map[x.split('/')[-2]] for x in train_images]\n",
    "\n",
    "val_images = glob('imagenette/val/*/*')\n",
    "np.random.shuffle(val_images)\n",
    "val_labels = [label_map[x.split('/')[-2]] for x in val_images]\n",
    "\n",
    "print('Number of classes : ', len(classes))\n",
    "print('Found', len(train_images), 'train images')\n",
    "print('Found', len(val_images), 'validation images')"
   ]
  },
  {
   "cell_type": "code",
   "execution_count": 6,
   "metadata": {},
   "outputs": [],
   "source": [
    "train_images = tf.random.shuffle(val_images).numpy()\n",
    "train_labels = [label_map[x.decode().split('/')[-2]] for x in train_images]"
   ]
  },
  {
   "cell_type": "code",
   "execution_count": 6,
   "metadata": {},
   "outputs": [],
   "source": [
    "bbox = tf.constant([0., 0., 1., 1.])\n",
    "bbox = tf.reshape(bbox, shape=[-1, 1, 4])\n",
    "channel_means =  tf.constant([103.939, 116.779, 123.68])\n",
    "\n",
    "def get_image(image_path, H=H, W=W):\n",
    "    with tf.device('/cpu:0'):\n",
    "        img = tf.io.read_file(image_path)\n",
    "        sample_distorted_bounding_box = tf.image.sample_distorted_bounding_box(\n",
    "        tf.image.extract_jpeg_shape(img),\n",
    "        bounding_boxes=bbox,\n",
    "        min_object_covered=0.1,\n",
    "        aspect_ratio_range=[0.75, 1.33],\n",
    "        area_range=[0.05, 1.0],\n",
    "        max_attempts=100,\n",
    "        use_image_if_no_bounding_boxes=True)\n",
    "        bbox_begin, bbox_size, _ = sample_distorted_bounding_box\n",
    "\n",
    "        offset_y, offset_x, _ = tf.unstack(bbox_begin)\n",
    "        target_height, target_width, _ = tf.unstack(bbox_size)\n",
    "        crop_window = tf.stack([offset_y, offset_x, target_height, target_width])\n",
    "\n",
    "        cropped = tf.image.decode_and_crop_jpeg(\n",
    "          img, crop_window, channels=3)\n",
    "        cropped = tf.cast(cropped, dtype=tf.float32)\n",
    "        cropped = tf.image.random_flip_left_right(cropped)\n",
    "        cropped.set_shape([None, None, 3])            \n",
    "\n",
    "        processed_image = tf.image.resize(cropped, size=[H, W], method='bilinear')\n",
    "        processed_image = tf.clip_by_value(processed_image, 0, 255)\n",
    "        processed_image  = processed_image[:,:,::-1] - channel_means\n",
    "    return processed_image\n",
    "\n",
    "def resize_preserve_aspect_ratio(image_tensor, min_side_dim=H):\n",
    "    img_h, img_w = image_tensor.shape.as_list()[:2]\n",
    "    min_dim = tf.minimum(img_h, img_w)\n",
    "    resize_ratio = min_side_dim / min_dim\n",
    "    new_h, new_w = resize_ratio * img_h, resize_ratio * img_w\n",
    "    resized_image_tensor = tf.image.resize(image_tensor, size=[new_h, new_w])\n",
    "    return resized_image_tensor\n",
    "    \n",
    "def get_image_eval(image_path, H=H, W=W):\n",
    "    with tf.device('/cpu:0'):\n",
    "        img = tf.io.read_file(image_path)\n",
    "        img = tf.image.decode_image(img, channels=3)\n",
    "        img = resize_preserve_aspect_ratio(img, min_side_dim=H)\n",
    "        img = tf.image.resize_with_crop_or_pad(img, H, W)\n",
    "        img  = img[:,:,::-1] - channel_means\n",
    "    return img\n",
    "\n",
    "def prepare_data(training=False):\n",
    "    def load_data(image_path, label):\n",
    "        if training:\n",
    "            image = get_image(image_path)\n",
    "        else:\n",
    "            image = get_image_eval(image_path)\n",
    "        return image, label\n",
    "    return load_data"
   ]
  },
  {
   "cell_type": "code",
   "execution_count": null,
   "metadata": {},
   "outputs": [],
   "source": [
    "batch_size = 32 * 3\n",
    "\n",
    "train_dataset = tf.data.Dataset.from_tensor_slices((train_images, train_labels))\n",
    "train_dataset = train_dataset.shuffle(buffer_size=len(train_images) + 1)\n",
    "train_dataset = train_dataset.apply(tf.data.experimental.map_and_batch(map_func=load_data, \n",
    "                                                   batch_size=batch_size, \n",
    "                                                   num_parallel_calls=tf.data.experimental.AUTOTUNE,\n",
    "                                                   drop_remainder=True))\n",
    "train_dataset = train_dataset.repeat()\n",
    "train_dataset = train_dataset.prefetch(tf.data.experimental.AUTOTUNE)\n",
    "\n",
    "val_dataset = tf.data.Dataset.from_tensor_slices((val_images, val_labels))\n",
    "val_dataset = val_dataset.apply(tf.data.experimental.map_and_batch(map_func=load_data,\n",
    "                                                   batch_size=batch_size, \n",
    "                                                   num_parallel_calls=tf.data.experimental.AUTOTUNE,\n",
    "                                                   drop_remainder=True))\n",
    "val_dataset = val_dataset.repeat()\n",
    "val_dataset = val_dataset.prefetch(tf.data.experimental.AUTOTUNE)\n",
    "\n",
    "\n",
    "callbacks_list = [\n",
    "    tf.keras.callbacks.ModelCheckpoint('top_weights.h5', \n",
    "                                       save_best_only=True, \n",
    "                                       save_weights_only=True,\n",
    "                                       monitor='val_sparse_categorical_accuracy'),\n",
    "    tf.keras.callbacks.TensorBoard(log_dir='./logs', update_freq='batch')]"
   ]
  },
  {
   "cell_type": "code",
   "execution_count": null,
   "metadata": {},
   "outputs": [],
   "source": [
    "starter_learning_rate = 1e-3\n",
    "end_learning_rate = 5e-5\n",
    "decay_steps = 60000\n",
    "learning_rate_fn = tf.keras.optimizers.schedules.PolynomialDecay(\n",
    "    starter_learning_rate,\n",
    "    decay_steps,\n",
    "    end_learning_rate,\n",
    "    power=0.8)\n",
    "\n",
    "optimizer = tf.keras.optimizers.SGD(learning_rate=learning_rate_fn)\n",
    "loss = tf.losses.SparseCategoricalCrossentropy(from_logits=True)\n",
    "\n",
    "\n",
    "strategy = tf.distribute.MirroredStrategy(['/gpu:0', '/gpu:1', '/gpu:2'])\n",
    "with strategy.scope():\n",
    "    model = ResNet34(input_shape=[H, W, 3], num_classes=10, include_top=True)\n",
    "    model.compile(loss=loss, \n",
    "                  optimizer=optimizer, \n",
    "                  metrics=[tf.metrics.SparseCategoricalAccuracy()])\n",
    "    \n",
    "model.fit(train_dataset,\n",
    "          steps_per_epoch=len(train_images) // batch_size,\n",
    "          epochs=400,\n",
    "          validation_data=val_dataset,\n",
    "          validation_steps=len(val_images) // batch_size,\n",
    "          callbacks=callbacks_list)\n",
    "model.save_weights('last_epoch.h5')"
   ]
  },
  {
   "cell_type": "code",
   "execution_count": 8,
   "metadata": {},
   "outputs": [],
   "source": [
    "#model = ResNet34(input_shape=[H, W, 3], num_classes=10, include_top=True)\n",
    "model.load_weights('last_epoch.h5')"
   ]
  },
  {
   "cell_type": "code",
   "execution_count": 9,
   "metadata": {},
   "outputs": [
    {
     "data": {
      "application/vnd.jupyter.widget-view+json": {
       "model_id": "f7ca3c686b654ac2a71d74df1ad2d976",
       "version_major": 2,
       "version_minor": 0
      },
      "text/plain": [
       "HBox(children=(IntProgress(value=0, max=500), HTML(value='')))"
      ]
     },
     "metadata": {},
     "output_type": "display_data"
    },
    {
     "name": "stdout",
     "output_type": "stream",
     "text": [
      "\n",
      "              precision    recall  f1-score   support\n",
      "\n",
      "           0       0.96      0.94      0.95        50\n",
      "           1       1.00      0.96      0.98        50\n",
      "           2       0.94      0.94      0.94        50\n",
      "           3       0.98      0.92      0.95        50\n",
      "           4       0.82      0.94      0.88        50\n",
      "           5       0.79      0.88      0.83        50\n",
      "           6       0.92      0.96      0.94        50\n",
      "           7       0.96      0.90      0.93        50\n",
      "           8       0.98      0.86      0.91        50\n",
      "           9       0.94      0.94      0.94        50\n",
      "\n",
      "    accuracy                           0.92       500\n",
      "   macro avg       0.93      0.92      0.93       500\n",
      "weighted avg       0.93      0.92      0.93       500\n",
      "\n"
     ]
    }
   ],
   "source": [
    "pred_labels = []\n",
    "for image_path in tqdm_notebook(val_images):\n",
    "    img = get_image_eval(image_path)\n",
    "    img = tf.expand_dims(img, axis=0)\n",
    "    logits = model(img)[0]\n",
    "    label = tf.argmax(logits, axis=-1).numpy()\n",
    "    pred_labels.append(label)\n",
    "print(classification_report(val_labels, pred_labels))    "
   ]
  },
  {
   "cell_type": "code",
   "execution_count": null,
   "metadata": {},
   "outputs": [],
   "source": []
  }
 ],
 "metadata": {
  "kernelspec": {
   "display_name": "Python 3",
   "language": "python",
   "name": "python3"
  },
  "language_info": {
   "codemirror_mode": {
    "name": "ipython",
    "version": 3
   },
   "file_extension": ".py",
   "mimetype": "text/x-python",
   "name": "python",
   "nbconvert_exporter": "python",
   "pygments_lexer": "ipython3",
   "version": "3.6.7"
  }
 },
 "nbformat": 4,
 "nbformat_minor": 2
}
